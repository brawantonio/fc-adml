{
 "cells": [
  {
   "cell_type": "markdown",
   "metadata": {},
   "source": [
    "# Introducción a Pandas"
   ]
  },
  {
   "cell_type": "markdown",
   "metadata": {},
   "source": [
    "Ahora, vamos a comenzar a utilizar la biblioteca `Pandas` para hacer análisis de datos. Como práctica, vamos a generar un archivo de daos, trabajar con él, salvarlo a un csv (_comma-separated values_) y cargarlo después. Primero vamos a entender las estructuras de datos principales de `Pandas`. Comenzamos por cargar las bibliotecas necesarias (como breviario cultural, se llaman bibliotecas y no librerías, pues estamos tomando las funciones _prestadas_, como una biblioteca en español. La confusión viene porque en inglés las palabras equivalentes son _library_ y _book store_)."
   ]
  },
  {
   "cell_type": "code",
   "execution_count": 1,
   "metadata": {},
   "outputs": [],
   "source": [
    "import pandas as pd\n",
    "import numpy as np\n",
    "import matplotlib.pyplot as plt"
   ]
  },
  {
   "cell_type": "markdown",
   "metadata": {},
   "source": [
    "# Las series de Pandas"
   ]
  },
  {
   "cell_type": "markdown",
   "metadata": {},
   "source": [
    "La estructura elemental de panda son las _series_. Para declararlas, se puede usar la función con el constructor por defecto `Series`."
   ]
  },
  {
   "cell_type": "code",
   "execution_count": 2,
   "metadata": {},
   "outputs": [
    {
     "data": {
      "text/plain": [
       "Series([], dtype: float64)"
      ]
     },
     "execution_count": 2,
     "metadata": {},
     "output_type": "execute_result"
    }
   ],
   "source": [
    "pd.Series()"
   ]
  },
  {
   "cell_type": "markdown",
   "metadata": {},
   "source": [
    "Esta estructura de datos es muy parecida a un `np.array` o a una lista de datos en `Python` con la particularidad que existen índices y funciones específicas para manejar la serie. Podemos construir estas series desde una lista, desde un `np.array` o desde un diccionario:"
   ]
  },
  {
   "cell_type": "code",
   "execution_count": 3,
   "metadata": {},
   "outputs": [
    {
     "data": {
      "text/plain": [
       "a    1\n",
       "b    2\n",
       "c    3\n",
       "d    4\n",
       "e    5\n",
       "dtype: int64"
      ]
     },
     "execution_count": 3,
     "metadata": {},
     "output_type": "execute_result"
    }
   ],
   "source": [
    "#Con una lista, no hay error\n",
    "lista = [1, 2, 3, 4, 5]\n",
    "pd.Series(lista)\n",
    "#Con un nparray, no hay error\n",
    "nparray = np.array(lista)\n",
    "pd.Series(nparray)\n",
    "#Con un diccionario, españa te ataca, aprende algo dinero\n",
    "dictionary = {'a' : 1, 'b' : 2, 'c' : 3, 'd' : 4, 'e' : 5}\n",
    "mSerie = pd.Series(dictionary)\n",
    "mSerie"
   ]
  },
  {
   "cell_type": "markdown",
   "metadata": {},
   "source": [
    "En el último caso, el diccionario siempre está compuesto por pares _llave, valor_. En este caso, la llave se va a convertir en un índice, con lo que podemos acceder a los elementos por la misma llave (como un diccionario)."
   ]
  },
  {
   "cell_type": "code",
   "execution_count": 4,
   "metadata": {},
   "outputs": [
    {
     "data": {
      "text/plain": [
       "1"
      ]
     },
     "execution_count": 4,
     "metadata": {},
     "output_type": "execute_result"
    }
   ],
   "source": [
    "mSerie[\"a\"]"
   ]
  },
  {
   "cell_type": "markdown",
   "metadata": {},
   "source": [
    "Bien podríamos especificar cualquier otro valor para los índices. Cuando usamos el constructor de una variable con de la clase `Series`, se toma el argumento como el parámetro `data`. Es decir, las siguientes dos instrucciones hacen lo mismo:"
   ]
  },
  {
   "cell_type": "code",
   "execution_count": null,
   "metadata": {},
   "outputs": [],
   "source": [
    "mSerie = pd.Series(data = lista)\n",
    "mSerie = pd.Series(dictionary)"
   ]
  },
  {
   "cell_type": "markdown",
   "metadata": {},
   "source": [
    "Bien, pues si queremos especificar índices sin usar un diccionario, se puede usar el parámetro `index`"
   ]
  },
  {
   "cell_type": "code",
   "execution_count": null,
   "metadata": {},
   "outputs": [],
   "source": [
    "mSerie = pd.Series(data = lista, index = ['24','67','68','75','100'])\n",
    "mSerie"
   ]
  },
  {
   "cell_type": "markdown",
   "metadata": {},
   "source": [
    "Entre los métodos más comunes para aplicar a una serie están `mean` (media), `quantiles` (para calcular cuantiles, el argumento `[0.25, 0.5, 0.75]` regresa los cuartiles), `std` (calcula la desviación estándar). Para métodos más sofisticados, existe la función `apply`, que permite aplicar una función a cada entrada de la serie (esto va a tener más utilidad después). Con el uso de lambdas, podemos, por ejemplo, meter ruido gaussiano a una serie (hay otras maneras más eficientes de hacer esto, pero es un ejemplo forzado)"
   ]
  },
  {
   "cell_type": "code",
   "execution_count": null,
   "metadata": {},
   "outputs": [],
   "source": [
    "time =np.linspace(0,2*np.pi, 500)\n",
    "mGauss = pd.Series(np.sin(time))\n",
    "mGauss = mGauss.apply(lambda x: float(x + np.random.normal(0,0.05,1)))\n",
    "plt.plot(time,mGauss)"
   ]
  },
  {
   "cell_type": "markdown",
   "metadata": {},
   "source": [
    "Podemos hacer un histograma con la opción 'plot', e incluso especificar el número de \"columnas\""
   ]
  },
  {
   "cell_type": "code",
   "execution_count": null,
   "metadata": {},
   "outputs": [],
   "source": [
    "(mGauss - np.sin(time)).plot(kind = \"hist\", bins = 30)"
   ]
  },
  {
   "cell_type": "markdown",
   "metadata": {},
   "source": [
    "# Segunda estructura: Data Frame"
   ]
  },
  {
   "cell_type": "markdown",
   "metadata": {},
   "source": [
    "Un Data Frame es una colección de series. Ya está. Eso es todo. Por ejemplo, una creación de un data frame es la siguiente:"
   ]
  },
  {
   "cell_type": "code",
   "execution_count": null,
   "metadata": {
    "scrolled": true
   },
   "outputs": [],
   "source": [
    "concentracion = pd.Series(np.abs(np.random.normal(0,1,5)))\n",
    "temperatura = pd.Series(np.random.normal(273,4,5))\n",
    "componentes = pd.DataFrame({'Concentración': concentracion, 'Temperatura':temperatura})\n",
    "componentes"
   ]
  },
  {
   "cell_type": "markdown",
   "metadata": {},
   "source": [
    "Podemos obtener las series de datos usando el nombre de sus campos, y de esa manera usar las operaciones que ya conocemos sobre una serie:"
   ]
  },
  {
   "cell_type": "code",
   "execution_count": null,
   "metadata": {},
   "outputs": [],
   "source": [
    "componentes[\"Concentración\"]"
   ]
  },
  {
   "cell_type": "markdown",
   "metadata": {},
   "source": [
    "Podemos añadir columnas al dataframe sólamente dándoles nombre:"
   ]
  },
  {
   "cell_type": "code",
   "execution_count": null,
   "metadata": {},
   "outputs": [],
   "source": [
    "componentes[\"Temp. Celsius\"] = componentes[\"Temperatura\"] - 273.15\n",
    "componentes"
   ]
  },
  {
   "cell_type": "code",
   "execution_count": null,
   "metadata": {},
   "outputs": [],
   "source": [
    "Y de la misma manera, quitar la columna"
   ]
  },
  {
   "cell_type": "code",
   "execution_count": null,
   "metadata": {},
   "outputs": [],
   "source": [
    "componentes.drop(labels = \"Temp. Celsius\", axis = 1, inplace = True)\n",
    "componentes"
   ]
  },
  {
   "cell_type": "markdown",
   "metadata": {},
   "source": [
    "La función miembro drop es muy útil, pero para ello hay que conocer otras particularidades de Pandas. Una de las características más importantes de un Data frame es que puede manejar información faltante."
   ]
  },
  {
   "cell_type": "code",
   "execution_count": null,
   "metadata": {
    "scrolled": true
   },
   "outputs": [],
   "source": [
    "componentes.loc[\"5\",\"Presión\"] = np.abs(np.random.normal(0,1,1))\n",
    "componentes"
   ]
  },
  {
   "cell_type": "markdown",
   "metadata": {},
   "source": [
    "En este caso, el último renglón carece de información en las columnas de \"Concentración\" y \"Presión\". Para los primeros 5 renglones, el campo de presión es desconocido. Python nos permite deshacernos de renglones que contengan valores NaN, por ejemplo"
   ]
  },
  {
   "cell_type": "code",
   "execution_count": null,
   "metadata": {},
   "outputs": [],
   "source": [
    "componentes.dropna()"
   ]
  },
  {
   "cell_type": "markdown",
   "metadata": {},
   "source": [
    "O bien, sólo en un subconjunto de las columnas"
   ]
  },
  {
   "cell_type": "code",
   "execution_count": null,
   "metadata": {},
   "outputs": [],
   "source": [
    "componentes.dropna(subset = [\"Presión\"])"
   ]
  },
  {
   "cell_type": "markdown",
   "metadata": {},
   "source": [
    "Nótese que así como existe `dropna`, existe `fillna` con lo que podemos reemplazar NaN's facilmente:"
   ]
  },
  {
   "cell_type": "code",
   "execution_count": null,
   "metadata": {},
   "outputs": [],
   "source": [
    "componentes.fillna(-1)"
   ]
  },
  {
   "cell_type": "markdown",
   "metadata": {},
   "source": [
    "Note que el método `mean` aplicado a un DataFrame genera el promedio por cada columna. Con ello, podemos usar `fillna` de una manera un tanto más sofisticada"
   ]
  },
  {
   "cell_type": "code",
   "execution_count": null,
   "metadata": {},
   "outputs": [],
   "source": [
    "componentes.fillna(componentes.mean())"
   ]
  }
 ],
 "metadata": {
  "kernelspec": {
   "display_name": "Python 3",
   "language": "python",
   "name": "python3"
  },
  "language_info": {
   "codemirror_mode": {
    "name": "ipython",
    "version": 3
   },
   "file_extension": ".py",
   "mimetype": "text/x-python",
   "name": "python",
   "nbconvert_exporter": "python",
   "pygments_lexer": "ipython3",
   "version": "3.6.4"
  }
 },
 "nbformat": 4,
 "nbformat_minor": 2
}
